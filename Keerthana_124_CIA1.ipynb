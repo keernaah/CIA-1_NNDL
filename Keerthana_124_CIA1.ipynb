{
  "nbformat": 4,
  "nbformat_minor": 0,
  "metadata": {
    "colab": {
      "provenance": []
    },
    "kernelspec": {
      "name": "python3",
      "display_name": "Python 3"
    },
    "language_info": {
      "name": "python"
    }
  },
  "cells": [
    {
      "cell_type": "markdown",
      "source": [
        "CIA I - LAB TEST"
      ],
      "metadata": {
        "id": "Ij-5KaehGmGl"
      }
    },
    {
      "cell_type": "markdown",
      "source": [
        "XOR- Gate Classification"
      ],
      "metadata": {
        "id": "BjRQ8dCd8mc8"
      }
    },
    {
      "cell_type": "markdown",
      "source": [
        "• Scenario:\n",
        "The XOR gate is known for its complexity, as it outputs 1 only when the inputs are different.\n",
        "This is a challenge for a Single Layer Perceptron since XOR is not linearly separable.\n",
        "\n",
        "• Lab Task: Attempt to implement a Single Layer Perceptron in Google Colab to classify the output of an XOR gate. Perform the following steps:"
      ],
      "metadata": {
        "id": "jzyB5EES8r0r"
      }
    },
    {
      "cell_type": "code",
      "execution_count": 1,
      "metadata": {
        "colab": {
          "base_uri": "https://localhost:8080/"
        },
        "id": "KhNhdgnS7XaQ",
        "outputId": "185676cb-8440-4107-8a38-bdacb43b9478"
      },
      "outputs": [
        {
          "output_type": "stream",
          "name": "stdout",
          "text": [
            "Epoch 1 - Weights: [0.13227159 0.58833876], Bias: [0.68886084]\n",
            "Epoch 2 - Weights: [0.03227159 0.48833876], Bias: [0.48886084]\n",
            "Epoch 3 - Weights: [-0.06772841  0.38833876], Bias: [0.28886084]\n",
            "Epoch 4 - Weights: [-0.16772841  0.28833876], Bias: [0.08886084]\n",
            "Epoch 5 - Weights: [-0.16772841  0.18833876], Bias: [-0.01113916]\n",
            "Epoch 6 - Weights: [-0.16772841  0.08833876], Bias: [-0.01113916]\n",
            "Epoch 7 - Weights: [-0.16772841 -0.01166124], Bias: [-0.01113916]\n",
            "Epoch 8 - Weights: [-0.16772841 -0.01166124], Bias: [0.08886084]\n",
            "Epoch 9 - Weights: [-0.16772841 -0.01166124], Bias: [0.08886084]\n",
            "Epoch 10 - Weights: [-0.16772841 -0.01166124], Bias: [0.08886084]\n",
            "Input: [0 0], Prediction: 1\n",
            "Input: [0 1], Prediction: 1\n",
            "Input: [1 0], Prediction: 0\n",
            "Input: [1 1], Prediction: 0\n"
          ]
        }
      ],
      "source": [
        "# Importing the libraries required:\n",
        "import numpy as np\n",
        "import matplotlib.pyplot as plt\n",
        "\n",
        "# XOR truth table(dataset):\n",
        "X = np.array([[0, 0], [0, 1], [1, 0], [1, 1]])\n",
        "y = np.array([0, 1, 1, 0])\n",
        "\n",
        "# Perceptron:\n",
        "class Perceptron:\n",
        "    def __init__(self, learning_rate=0.1, epochs=10):\n",
        "        self.learning_rate = learning_rate\n",
        "        self.epochs = epochs\n",
        "        self.weights = np.random.rand(2)\n",
        "        self.bias = np.random.rand(1)\n",
        "\n",
        "    def activation(self, x):\n",
        "        return 1 if x >= 0 else 0  # Threshold function (MCP Neuron)\n",
        "\n",
        "    def predict(self, x):\n",
        "\n",
        "        weighted_sum = np.dot(x, self.weights) + self.bias\n",
        "        return self.activation(weighted_sum)\n",
        "\n",
        "    def train(self, X, y):\n",
        "        for epoch in range(self.epochs):\n",
        "            for inputs, label in zip(X, y):\n",
        "                prediction = self.predict(inputs)\n",
        "                error = label - prediction\n",
        "                # Update weights and bias\n",
        "                self.weights += self.learning_rate * error * inputs\n",
        "                self.bias += self.learning_rate * error\n",
        "            print(f'Epoch {epoch+1} - Weights: {self.weights}, Bias: {self.bias}')\n",
        "\n",
        "#training the perceptron\n",
        "perceptron = Perceptron(learning_rate=0.1, epochs=10)\n",
        "perceptron.train(X, y)\n",
        "\n",
        "# Predicting the output for XOR dataset:\n",
        "for inputs in X:\n",
        "    prediction = perceptron.predict(inputs)\n",
        "    print(f'Input: {inputs}, Prediction: {prediction}')\n"
      ]
    },
    {
      "cell_type": "markdown",
      "source": [
        "Intrepretation:\n",
        "\n",
        "There is a misclassification because:\n",
        "\n",
        "For input [0, 0], the prediction is 1, while the actual value should be 0.\n",
        "For input [1, 0], the prediction is 0, while the actual value should be 1.\n",
        "\n",
        "This happens because XOR gate is not linearly separable, and a single-layer perceptron is only capable of handling problems that can be separated by a straight line.\n"
      ],
      "metadata": {
        "id": "e5_X9krz8Gfh"
      }
    },
    {
      "cell_type": "markdown",
      "source": [
        "Observe and discuss the perceptron's performance in this scenario based on my output:\n",
        "\n"
      ],
      "metadata": {
        "id": "1wpbl_Se80rw"
      }
    },
    {
      "cell_type": "markdown",
      "source": [
        "Linearly Non-Separable Problem:\n",
        "XOR is not linearly separable, meaning it cannot be solved using a single linear boundary.\n",
        "The XOR function requires a more complex decision boundary, which a single-layer perceptron cannot create.\n",
        "Weight Updates:\n",
        "Despite multiple epochs,the perceptron cannot find appropriate weights to solve the XOR problem because it lacks the capacity to model the non-linear relationship in the XOR data."
      ],
      "metadata": {
        "id": "0cr_EoCu8-66"
      }
    },
    {
      "cell_type": "markdown",
      "source": [
        "• Implement XOR using Multi-Layer Perceptron:"
      ],
      "metadata": {
        "id": "g2PalSBk9GzK"
      }
    },
    {
      "cell_type": "code",
      "source": [
        "#Importing the necessary libraries:\n",
        "import numpy as np\n",
        "import tensorflow as tf\n",
        "from tensorflow.keras.models import Sequential\n",
        "from tensorflow.keras.layers import Dense\n",
        "import matplotlib.pyplot as plt\n",
        "\n",
        "# XOR gate truth table(dataset):\n",
        "X = np.array([[0, 0], [0, 1], [1, 0], [1, 1]])\n",
        "y = np.array([0, 1, 1, 0])\n",
        "\n",
        "# Creating the MLP model:\n",
        "model = Sequential()\n",
        "\n",
        "# Hidden layer:\n",
        "model.add(Dense(2, input_dim=2, activation='relu'))  #ReLU activation\n",
        "\n",
        "# Output layer:\n",
        "model.add(Dense(1, activation='sigmoid'))\n",
        "\n",
        "#optimizing using adam\n",
        "model.compile(loss='binary_crossentropy', optimizer='adam', metrics=['accuracy'])\n",
        "\n",
        "# Training the model\n",
        "history = model.fit(X, y, epochs=1000, verbose=0)\n",
        "\n",
        "# Evaluating the model\n",
        "_, accuracy = model.evaluate(X, y, verbose=0)\n",
        "print(f'Model Accuracy: {accuracy * 100:.2f}%')\n",
        "\n",
        "# Prediction of the XOR output:\n",
        "predictions = model.predict(X)\n",
        "print(\"\\nPredicted Outputs:\")\n",
        "for i, prediction in enumerate(predictions):\n",
        "    print(f\"Input: {X[i]}, Predicted Output: {int(np.round(prediction[0]))}, Actual Output: {y[i]}\")\n",
        "\n",
        "#Plotting the training loss over epochs\n",
        "plt.plot(history.history['loss'])\n",
        "plt.title('Model Loss During Training')\n",
        "plt.xlabel('Epochs')\n",
        "plt.ylabel('Loss')\n",
        "plt.show()\n"
      ],
      "metadata": {
        "colab": {
          "base_uri": "https://localhost:8080/",
          "height": 674
        },
        "id": "jxRzZUGE9PN4",
        "outputId": "e697abb4-d9f3-4ff7-f9c4-509e363bc400"
      },
      "execution_count": 2,
      "outputs": [
        {
          "output_type": "stream",
          "name": "stderr",
          "text": [
            "/usr/local/lib/python3.10/dist-packages/keras/src/layers/core/dense.py:87: UserWarning: Do not pass an `input_shape`/`input_dim` argument to a layer. When using Sequential models, prefer using an `Input(shape)` object as the first layer in the model instead.\n",
            "  super().__init__(activity_regularizer=activity_regularizer, **kwargs)\n"
          ]
        },
        {
          "output_type": "stream",
          "name": "stdout",
          "text": [
            "Model Accuracy: 75.00%\n",
            "\u001b[1m1/1\u001b[0m \u001b[32m━━━━━━━━━━━━━━━━━━━━\u001b[0m\u001b[37m\u001b[0m \u001b[1m0s\u001b[0m 39ms/step\n",
            "\n",
            "Predicted Outputs:\n",
            "Input: [0 0], Predicted Output: 1, Actual Output: 0\n",
            "Input: [0 1], Predicted Output: 1, Actual Output: 1\n",
            "Input: [1 0], Predicted Output: 1, Actual Output: 1\n",
            "Input: [1 1], Predicted Output: 0, Actual Output: 0\n"
          ]
        },
        {
          "output_type": "display_data",
          "data": {
            "text/plain": [
              "<Figure size 640x480 with 1 Axes>"
            ],
            "image/png": "[encoded data removed]"
          },
          "metadata": {}
        }
      ]
    },
    {
      "cell_type": "markdown",
      "source": [
        "Intrepretation:\n",
        "The model achieved 75% accuracy, which indicates that it is misclassifying one of the inputs.\n",
        "\n",
        "This suggests that the model has not fully converged or learned the XOR function correctly."
      ],
      "metadata": {
        "id": "9wEehqkM-kSU"
      }
    },
    {
      "cell_type": "markdown",
      "source": [
        "We need to adjust few things for it to predict properly so we can do it by:\n",
        "\n"
      ],
      "metadata": {
        "id": "R4LIPu8t-xNt"
      }
    },
    {
      "cell_type": "code",
      "source": [
        "from keras.models import Sequential\n",
        "from keras.layers import Dense\n",
        "import numpy as np\n",
        "\n",
        "#Creating the XOR dataset\n",
        "inputs = np.array([[0, 0], [0, 1], [1, 0], [1, 1]])  # Input pairs\n",
        "outputs = np.array([[0], [1], [1], [0]])  # XOR gate outputs\n",
        "\n",
        "# Define the MLP model with more neurons and an extra hidden layer\n",
        "model = Sequential()\n",
        "model.add(Dense(4, input_dim=2, activation='relu'))  # First hidden layer with 4 neurons\n",
        "model.add(Dense(2, activation='relu'))  # Second hidden layer with 2 neurons\n",
        "model.add(Dense(1, activation='sigmoid'))  # Output layer with 1 neuron (binary output)\n",
        "\n",
        "#Compiling the model\n",
        "model.compile(optimizer='adam', loss='binary_crossentropy', metrics=['accuracy'])\n",
        "\n",
        "#Training the model\n",
        "model.fit(inputs, outputs, epochs=2000, verbose=0)  # Increased epochs to 2000\n",
        "\n",
        "#Testing the model\n",
        "print(\"Testing the XOR gate MLP:\")\n",
        "predictions = model.predict(inputs)\n",
        "for input_set, predicted in zip(inputs, predictions):\n",
        "    print(f\"Input: {input_set}, Predicted Output: {round(predicted[0])}\")\n"
      ],
      "metadata": {
        "colab": {
          "base_uri": "https://localhost:8080/"
        },
        "id": "6IifCyOWAhYM",
        "outputId": "9efc7b5b-9dda-45f0-a1a1-e23ac25539d3"
      },
      "execution_count": 5,
      "outputs": [
        {
          "output_type": "stream",
          "name": "stdout",
          "text": [
            "Testing the XOR gate MLP:\n",
            "\u001b[1m1/1\u001b[0m \u001b[32m━━━━━━━━━━━━━━━━━━━━\u001b[0m\u001b[37m\u001b[0m \u001b[1m0s\u001b[0m 70ms/step\n",
            "Input: [0 0], Predicted Output: 0\n",
            "Input: [0 1], Predicted Output: 1\n",
            "Input: [1 0], Predicted Output: 1\n",
            "Input: [1 1], Predicted Output: 0\n"
          ]
        }
      ]
    },
    {
      "cell_type": "markdown",
      "source": [
        "The updated model now correctly classifies the XOR gate. Here's the interpretation based on the changes:\n",
        "\n",
        "Addition of more neurons and a second hidden layer to give the model more \"brainpower\" to handle the XOR problem.\n",
        "\n",
        "Training the model for more time (2000 epochs).\n"
      ],
      "metadata": {
        "id": "Gwzsg6reBBI9"
      }
    },
    {
      "cell_type": "markdown",
      "source": [
        "Visualization:"
      ],
      "metadata": {
        "id": "Lg2mMyPgBgan"
      }
    },
    {
      "cell_type": "code",
      "source": [
        "# Generate a grid of points\n",
        "x_min, x_max = -0.1, 1.1\n",
        "y_min, y_max = -0.1, 1.1\n",
        "xx, yy = np.meshgrid(np.arange(x_min, x_max, 0.01), np.arange(y_min, y_max, 0.01))\n",
        "grid_points = np.c_[xx.ravel(), yy.ravel()]\n",
        "\n",
        "# Predict the outputs for the grid points\n",
        "grid_predictions = model.predict(grid_points)\n",
        "grid_predictions = grid_predictions.reshape(xx.shape)\n",
        "\n",
        "#Plotting\n",
        "plt.figure(figsize=(8, 6))\n",
        "plt.contourf(xx, yy, grid_predictions, levels=[0, 0.5, 1], alpha=0.7, cmap=plt.cm.Paired)\n",
        "plt.colorbar()\n",
        "\n",
        "# Plot the XOR data points:\n",
        "plt.scatter(inputs[:, 0], inputs[:, 1], c=outputs[:, 0], s=100, edgecolor='k', cmap=plt.cm.Paired)\n",
        "plt.title(\"MLP Decision Boundary for XOR Problem\")\n",
        "plt.xlabel(\"Input 1\")\n",
        "plt.ylabel(\"Input 2\")\n",
        "plt.show()"
      ],
      "metadata": {
        "colab": {
          "base_uri": "https://localhost:8080/",
          "height": 620
        },
        "id": "8J2KvUgGBvgd",
        "outputId": "cb47e152-253b-41fd-b6f2-8667f7fcb540"
      },
      "execution_count": 6,
      "outputs": [
        {
          "output_type": "stream",
          "name": "stderr",
          "text": [
            "WARNING:tensorflow:5 out of the last 5 calls to <function TensorFlowTrainer.make_predict_function.<locals>.one_step_on_data_distributed at 0x78ebc2af43a0> triggered tf.function retracing. Tracing is expensive and the excessive number of tracings could be due to (1) creating @tf.function repeatedly in a loop, (2) passing tensors with different shapes, (3) passing Python objects instead of tensors. For (1), please define your @tf.function outside of the loop. For (2), @tf.function has reduce_retracing=True option that can avoid unnecessary retracing. For (3), please refer to https://www.tensorflow.org/guide/function#controlling_retracing and https://www.tensorflow.org/api_docs/python/tf/function for  more details.\n"
          ]
        },
        {
          "output_type": "stream",
          "name": "stdout",
          "text": [
            "\u001b[1m458/458\u001b[0m \u001b[32m━━━━━━━━━━━━━━━━━━━━\u001b[0m\u001b[37m\u001b[0m \u001b[1m1s\u001b[0m 1ms/step\n"
          ]
        },
        {
          "output_type": "display_data",
          "data": {
            "text/plain": [
              "<Figure size 800x600 with 2 Axes>"
            ],
            "image/png": "[encoded data removed]"
          },
          "metadata": {}
        }
      ]
    },
    {
      "cell_type": "markdown",
      "source": [
        "Question 2"
      ],
      "metadata": {
        "id": "ddLa2RuRB4-f"
      }
    },
    {
      "cell_type": "markdown",
      "source": [
        "B.Sentiment Analysis Using ANN on IMDb Movie Reviews:"
      ],
      "metadata": {
        "id": "J4Y4qNDXCQ5W"
      }
    },
    {
      "cell_type": "markdown",
      "source": [
        "You are tasked with performing sentiment analysis on the IMDb movie review dataset using an Artificial Neural Network (ANN). The dataset contains movie reviews labeled as positive or negative."
      ],
      "metadata": {
        "id": "nPe069fjCXEo"
      }
    },
    {
      "cell_type": "markdown",
      "source": [
        "Data Loading"
      ],
      "metadata": {
        "id": "PZrjrBakC5y1"
      }
    },
    {
      "cell_type": "code",
      "source": [
        "import pandas as pd\n",
        "# Loading the dataset:\n",
        "data=pd.read_csv('/content/IMDB - IMDB Dataset.csv')\n",
        "# Display the first few rows of the dataset\n",
        "print(data.head())\n"
      ],
      "metadata": {
        "colab": {
          "base_uri": "https://localhost:8080/"
        },
        "id": "i6SEIE4tB9LX",
        "outputId": "802289c7-3e27-4972-c1d1-5d8dad3cc5e4"
      },
      "execution_count": 7,
      "outputs": [
        {
          "output_type": "stream",
          "name": "stdout",
          "text": [
            "                                              review sentiment\n",
            "0  One of the other reviewers has mentioned that ...  positive\n",
            "1  A wonderful little production. <br /><br />The...  positive\n",
            "2  I thought this was a wonderful way to spend ti...  positive\n",
            "3  Basically there's a family where a little boy ...  negative\n",
            "4  Petter Mattei's \"Love in the Time of Money\" is...  positive\n"
          ]
        }
      ]
    },
    {
      "cell_type": "markdown",
      "source": [
        "Data Preprocessing:"
      ],
      "metadata": {
        "id": "oI26Byl3DXF2"
      }
    },
    {
      "cell_type": "code",
      "source": [
        "import nltk\n",
        "from nltk.corpus import stopwords\n",
        "from nltk.stem import WordNetLemmatizer\n",
        "import re\n",
        "\n",
        "#NLTK resources for preprocessing:\n",
        "nltk.download('stopwords')\n",
        "nltk.download('wordnet')\n",
        "\n",
        "# Initializing stop words and lemmatizer\n",
        "stop_words = set(stopwords.words('english'))\n",
        "lemmatizer = WordNetLemmatizer()\n",
        "\n",
        "def preprocess_text(text):\n",
        "    # Convert to lowercase\n",
        "    text = text.lower()\n",
        "    # Remove punctuation and special characters\n",
        "    text = re.sub(r'[^a-zA-Z\\s]', '', text)\n",
        "    # Tokenization\n",
        "    tokens = text.split()\n",
        "    # Remove stop words and lemmatize\n",
        "    tokens = [lemmatizer.lemmatize(word) for word in tokens if word not in stop_words]\n",
        "    return ' '.join(tokens)\n",
        "\n",
        "# Apply preprocessing:\n",
        "data['cleaned_review'] = data['review'].apply(preprocess_text)\n"
      ],
      "metadata": {
        "colab": {
          "base_uri": "https://localhost:8080/"
        },
        "id": "mVzjcDBcDYj4",
        "outputId": "9f6d0cb0-3505-41f2-a915-46801ff19357"
      },
      "execution_count": 8,
      "outputs": [
        {
          "output_type": "stream",
          "name": "stderr",
          "text": [
            "[nltk_data] Downloading package stopwords to /root/nltk_data...\n",
            "[nltk_data]   Unzipping corpora/stopwords.zip.\n",
            "[nltk_data] Downloading package wordnet to /root/nltk_data...\n"
          ]
        }
      ]
    },
    {
      "cell_type": "markdown",
      "source": [
        "Text Preprocessing:\n",
        "\n",
        "Convert all text to lowercase.\n",
        "\n",
        "Remove punctuation and special characters.\n",
        "\n",
        "Tokenization (splitting sentences into words).\n",
        "\n",
        "Remove stop words.\n",
        "\n",
        "Lemmatization or stemming."
      ],
      "metadata": {
        "id": "3pZeFjDuGWLF"
      }
    },
    {
      "cell_type": "markdown",
      "source": [
        "Label encoding:\n",
        "\n",
        "The labels should be encoded as binary values (0 for negative, 1 for positive)."
      ],
      "metadata": {
        "id": "RYnPzfSSDtdQ"
      }
    },
    {
      "cell_type": "code",
      "source": [
        "# Encode labels\n",
        "data['sentiment'] = data['sentiment'].map({'negative': 0, 'positive': 1})\n"
      ],
      "metadata": {
        "id": "Gc5OWHybDpfj"
      },
      "execution_count": 9,
      "outputs": []
    },
    {
      "cell_type": "code",
      "source": [
        "from sklearn.model_selection import train_test_split\n",
        "# Spliting the data\n",
        "X_train, X_test, y_train, y_test = train_test_split(data['cleaned_review'], data['sentiment'], test_size=0.2, random_state=42)\n"
      ],
      "metadata": {
        "id": "Gm0Mn--oD1M7"
      },
      "execution_count": 10,
      "outputs": []
    },
    {
      "cell_type": "code",
      "source": [
        "from sklearn.feature_extraction.text import TfidfVectorizer\n",
        "# Vectorizing the text\n",
        "vectorizer = TfidfVectorizer(max_features=5000)\n",
        "X_train_vec = vectorizer.fit_transform(X_train).toarray()\n",
        "X_test_vec = vectorizer.transform(X_test).toarray()\n"
      ],
      "metadata": {
        "id": "MRrTSBSuD4L6"
      },
      "execution_count": 11,
      "outputs": []
    },
    {
      "cell_type": "markdown",
      "source": [
        "Model building:"
      ],
      "metadata": {
        "id": "FLS9IMI-EPiQ"
      }
    },
    {
      "cell_type": "code",
      "source": [
        "from keras.models import Sequential\n",
        "from keras.layers import Dense\n",
        "\n",
        "#building the ANN model\n",
        "model = Sequential()\n",
        "model.add(Dense(128, input_dim=X_train_vec.shape[1], activation='relu'))  # Hidden layer\n",
        "model.add(Dense(64, activation='relu'))  # Another hidden layer\n",
        "model.add(Dense(1, activation='sigmoid'))  # Output layer\n",
        "\n",
        "# Compiling the model\n",
        "model.compile(optimizer='adam', loss='binary_crossentropy', metrics=['accuracy'])\n"
      ],
      "metadata": {
        "colab": {
          "base_uri": "https://localhost:8080/"
        },
        "id": "cgSrIwSiD-11",
        "outputId": "24e2b754-5a98-4c50-d402-9420a9c70b9b"
      },
      "execution_count": 12,
      "outputs": [
        {
          "output_type": "stream",
          "name": "stderr",
          "text": [
            "/usr/local/lib/python3.10/dist-packages/keras/src/layers/core/dense.py:87: UserWarning: Do not pass an `input_shape`/`input_dim` argument to a layer. When using Sequential models, prefer using an `Input(shape)` object as the first layer in the model instead.\n",
            "  super().__init__(activity_regularizer=activity_regularizer, **kwargs)\n"
          ]
        }
      ]
    },
    {
      "cell_type": "code",
      "source": [
        "# Train the model\n",
        "model.fit(X_train_vec, y_train, epochs=10, batch_size=32, verbose=1)\n"
      ],
      "metadata": {
        "colab": {
          "base_uri": "https://localhost:8080/"
        },
        "id": "jwT_HkPuECTN",
        "outputId": "4a264d39-f1ab-42c7-b350-abbfe6cb6e03"
      },
      "execution_count": 13,
      "outputs": [
        {
          "output_type": "stream",
          "name": "stdout",
          "text": [
            "Epoch 1/10\n",
            "\u001b[1m1015/1015\u001b[0m \u001b[32m━━━━━━━━━━━━━━━━━━━━\u001b[0m\u001b[37m\u001b[0m \u001b[1m9s\u001b[0m 8ms/step - accuracy: 0.8162 - loss: 0.3951\n",
            "Epoch 2/10\n",
            "\u001b[1m1015/1015\u001b[0m \u001b[32m━━━━━━━━━━━━━━━━━━━━\u001b[0m\u001b[37m\u001b[0m \u001b[1m10s\u001b[0m 7ms/step - accuracy: 0.9135 - loss: 0.2187\n",
            "Epoch 3/10\n",
            "\u001b[1m1015/1015\u001b[0m \u001b[32m━━━━━━━━━━━━━━━━━━━━\u001b[0m\u001b[37m\u001b[0m \u001b[1m9s\u001b[0m 9ms/step - accuracy: 0.9412 - loss: 0.1565\n",
            "Epoch 4/10\n",
            "\u001b[1m1015/1015\u001b[0m \u001b[32m━━━━━━━━━━━━━━━━━━━━\u001b[0m\u001b[37m\u001b[0m \u001b[1m8s\u001b[0m 8ms/step - accuracy: 0.9788 - loss: 0.0679\n",
            "Epoch 5/10\n",
            "\u001b[1m1015/1015\u001b[0m \u001b[32m━━━━━━━━━━━━━━━━━━━━\u001b[0m\u001b[37m\u001b[0m \u001b[1m13s\u001b[0m 13ms/step - accuracy: 0.9953 - loss: 0.0163\n",
            "Epoch 6/10\n",
            "\u001b[1m1015/1015\u001b[0m \u001b[32m━━━━━━━━━━━━━━━━━━━━\u001b[0m\u001b[37m\u001b[0m \u001b[1m23s\u001b[0m 15ms/step - accuracy: 0.9997 - loss: 0.0036\n",
            "Epoch 7/10\n",
            "\u001b[1m1015/1015\u001b[0m \u001b[32m━━━━━━━━━━━━━━━━━━━━\u001b[0m\u001b[37m\u001b[0m \u001b[1m16s\u001b[0m 11ms/step - accuracy: 0.9999 - loss: 6.8980e-04\n",
            "Epoch 8/10\n",
            "\u001b[1m1015/1015\u001b[0m \u001b[32m━━━━━━━━━━━━━━━━━━━━\u001b[0m\u001b[37m\u001b[0m \u001b[1m17s\u001b[0m 7ms/step - accuracy: 1.0000 - loss: 2.7038e-04\n",
            "Epoch 9/10\n",
            "\u001b[1m1015/1015\u001b[0m \u001b[32m━━━━━━━━━━━━━━━━━━━━\u001b[0m\u001b[37m\u001b[0m \u001b[1m12s\u001b[0m 9ms/step - accuracy: 0.9999 - loss: 4.2030e-04\n",
            "Epoch 10/10\n",
            "\u001b[1m1015/1015\u001b[0m \u001b[32m━━━━━━━━━━━━━━━━━━━━\u001b[0m\u001b[37m\u001b[0m \u001b[1m10s\u001b[0m 9ms/step - accuracy: 1.0000 - loss: 3.6915e-05\n"
          ]
        },
        {
          "output_type": "execute_result",
          "data": {
            "text/plain": [
              "<keras.src.callbacks.history.History at 0x78ebaa52b5e0>"
            ]
          },
          "metadata": {},
          "execution_count": 13
        }
      ]
    },
    {
      "cell_type": "code",
      "source": [
        "# Evaluation of the model\n",
        "loss, accuracy = model.evaluate(X_test_vec, y_test, verbose=0)\n",
        "print(f\"Test Accuracy: {accuracy * 100:.2f}%\")\n"
      ],
      "metadata": {
        "colab": {
          "base_uri": "https://localhost:8080/"
        },
        "id": "0wbJkfP4ElKP",
        "outputId": "8ec403f9-4e86-4001-a5cd-3d309ca89182"
      },
      "execution_count": 14,
      "outputs": [
        {
          "output_type": "stream",
          "name": "stdout",
          "text": [
            "Test Accuracy: 86.47%\n"
          ]
        }
      ]
    },
    {
      "cell_type": "markdown",
      "source": [
        "An accuracy of 86.47% means that approximately 86 out of every 100 reviews were correctly classified as positive or negative.\n",
        "This level of performance suggests that model has learned to differentiate between sentiments well."
      ],
      "metadata": {
        "id": "Aqhh5dw5E0Wy"
      }
    },
    {
      "cell_type": "markdown",
      "source": [
        "Visualization"
      ],
      "metadata": {
        "id": "OICz7jCxFG2w"
      }
    },
    {
      "cell_type": "code",
      "source": [
        "import matplotlib.pyplot as plt\n",
        "# Plot training & validation accuracy values\n",
        "plt.figure(figsize=(12, 5))\n",
        "\n",
        "# Plot training loss\n",
        "plt.subplot(1, 2, 1)\n",
        "plt.plot(history.history['loss'], label='Train Loss', color='blue')\n",
        "plt.title('Model Loss')\n",
        "plt.ylabel('Loss')\n",
        "plt.xlabel('Epoch')\n",
        "plt.legend(loc='upper right')\n",
        "\n",
        "# Plot training accuracy\n",
        "plt.subplot(1, 2, 2)\n",
        "plt.plot(history.history['accuracy'], label='Train Accuracy', color='orange')\n",
        "plt.title('Model Accuracy')\n",
        "plt.ylabel('Accuracy')\n",
        "plt.xlabel('Epoch')\n",
        "plt.legend(loc='upper left')\n",
        "\n",
        "plt.tight_layout()\n",
        "plt.show()\n"
      ],
      "metadata": {
        "colab": {
          "base_uri": "https://localhost:8080/",
          "height": 456
        },
        "id": "k-fM1e4kFGnJ",
        "outputId": "1416ab29-f831-478a-9bd2-bc13a0f112e1"
      },
      "execution_count": 17,
      "outputs": [
        {
          "output_type": "display_data",
          "data": {
            "text/plain": [
              "<Figure size 1200x500 with 2 Axes>"
            ],
            "image/png": "[encoded data removed]"
          },
          "metadata": {}
        }
      ]
    },
    {
      "cell_type": "markdown",
      "source": [
        "Binary cross-entropy is suitable because:\n",
        "\n",
        "\n",
        "It is particularly useful for binary classification tasks like sentiment analysis, where we want to classify inputs into one of two categories (positive or negative).\n",
        "\n",
        "It measures the performance of a classification model whose output is a probability value between 0 and 1."
      ],
      "metadata": {
        "id": "i86BMsvwFyoI"
      }
    },
    {
      "cell_type": "markdown",
      "source": [
        "Justification of Activation Functions:\n",
        "\n",
        "ReLU (Rectified Linear Unit):\n",
        "\n",
        "ReLU activation is used in hidden layers because it helps with the vanishing gradient problem.\n",
        "\n",
        "It also gives better convergence and faster training.\n",
        "\n",
        "Sigmoid:\n",
        "\n",
        "The sigmoid function is used in the output layer for binary classification, as it gives the output to a range between 0 and 1, making it suitable for predicting probabilities of binary outcomes."
      ],
      "metadata": {
        "id": "XtTjJiSUF8UC"
      }
    }
  ]
}